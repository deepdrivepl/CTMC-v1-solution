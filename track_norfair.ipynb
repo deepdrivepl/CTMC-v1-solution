{
 "cells": [
  {
   "cell_type": "code",
   "execution_count": 1,
   "id": "55b9d3b2",
   "metadata": {},
   "outputs": [],
   "source": [
    "import json\n",
    "import os \n",
    "\n",
    "import numpy as np\n",
    "\n",
    "from tqdm import tqdm\n",
    "from glob import glob\n",
    "\n",
    "from norfair import Detection, Tracker, FilterSetup"
   ]
  },
  {
   "cell_type": "code",
   "execution_count": 2,
   "id": "b047d69c",
   "metadata": {},
   "outputs": [],
   "source": [
    "def euclidean_distance(detection, tracked_object):\n",
    "    detection_center = detection.points[0, :]\n",
    "    tracked_center   = tracked_object.estimate[0,:]\n",
    "    return np.linalg.norm(detection_center - tracked_center)\n",
    "\n",
    "def get_coordinates(candidate):\n",
    "    xmin,ymin,w,h = candidate[2:6]\n",
    "    xc=int(xmin+w/2)\n",
    "    yc=int(ymin+h/2)\n",
    "    return np.array([[xc, yc],\n",
    "                     [xmin, ymin],\n",
    "                     [w, h]])"
   ]
  },
  {
   "cell_type": "code",
   "execution_count": 3,
   "id": "83725b4e",
   "metadata": {},
   "outputs": [],
   "source": [
    "def track_dir(det_path, out_path, tracker, W=400, H=320):\n",
    "    anns = [x.rstrip().split(',') for x in open(det_path)]\n",
    "    anns = [list(map(float, lst)) for lst in anns]\n",
    "    anns.sort(key=lambda x: x[0])\n",
    "    \n",
    "    frames = set([x[0] for x in anns])\n",
    "    \n",
    "    mot_objs = []\n",
    "    for frame in frames:\n",
    "        frame_objects = [x for x in anns if x[0]==frame]\n",
    "        frame_objects = [x for x in frame_objects]\n",
    "        detections = [Detection(get_coordinates(candidate), data=candidate) \n",
    "                      for candidate in frame_objects]\n",
    "        tracked_objects = tracker.update(detections=detections)\n",
    "        \n",
    "        if len(tracked_objects) == 0:\n",
    "            continue\n",
    "\n",
    "        for tracked_object in tracked_objects:\n",
    "            if not tracked_object.live_points.any():\n",
    "                continue\n",
    "\n",
    "            \n",
    "            bbox = [int(tracked_object.estimate[1,0]),int(tracked_object.estimate[1,1]),\n",
    "                    int(tracked_object.estimate[2,0]),int(tracked_object.estimate[2,1])]\n",
    "            if len(tracked_object.last_detection.data) == 9:\n",
    "                adds = tracked_object.last_detection.data[-3:]\n",
    "                adds = [int(x) for x in adds[-3:]]\n",
    "            elif len(tracked_object.last_detection.data) == 10:\n",
    "                adds = tracked_object.last_detection.data[-4:]\n",
    "                adds = [adds[-4]]+[int(x) for x in adds[-3:]]\n",
    "            else:\n",
    "                print('Invalid format')\n",
    "                break\n",
    "            \n",
    "            mot_obj = [int(frame), tracked_object.id] + bbox + adds\n",
    "            mot_objs.append(mot_obj)\n",
    "    \n",
    "    with open(out_path, 'w') as f:\n",
    "        for obj in mot_objs:\n",
    "            line = ','.join([str(x) for x in obj])\n",
    "            f.write('%s\\n' % line)"
   ]
  },
  {
   "cell_type": "code",
   "execution_count": 4,
   "id": "37189c85",
   "metadata": {},
   "outputs": [
    {
     "name": "stderr",
     "output_type": "stream",
     "text": [
      "100%|███████████████████████████████████████████████| 13/13 [03:21<00:00, 15.50s/it]\n"
     ]
    }
   ],
   "source": [
    "for det_path in tqdm(glob('./results/011-best-val/detection/*.txt')):\n",
    "    tracker = Tracker(distance_function=euclidean_distance, \n",
    "                      distance_threshold=20,\n",
    "                      hit_inertia_min=8,\n",
    "                      hit_inertia_max=15,\n",
    "                      initialization_delay=1,\n",
    "                      filter_setup=FilterSetup(R=6,Q=0.1,P=15)) \n",
    "        \n",
    "    seq = os.path.splitext(det_path.split(os.sep)[-1])[0]\n",
    "    out_path = os.path.join('./results/011-best-val/norfair', '%s.txt' % seq)\n",
    "    os.makedirs(os.path.dirname(out_path), exist_ok=True)\n",
    "    track_dir(det_path, out_path, tracker)"
   ]
  }
 ],
 "metadata": {
  "kernelspec": {
   "display_name": "Python 3 (ipykernel)",
   "language": "python",
   "name": "python3"
  },
  "language_info": {
   "codemirror_mode": {
    "name": "ipython",
    "version": 3
   },
   "file_extension": ".py",
   "mimetype": "text/x-python",
   "name": "python",
   "nbconvert_exporter": "python",
   "pygments_lexer": "ipython3",
   "version": "3.8.10"
  }
 },
 "nbformat": 4,
 "nbformat_minor": 5
}
