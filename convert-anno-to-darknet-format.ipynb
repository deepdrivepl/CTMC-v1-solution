{
 "cells": [
  {
   "cell_type": "code",
   "execution_count": 1,
   "metadata": {},
   "outputs": [],
   "source": [
    "from glob import glob\n",
    "import cv2\n",
    "import matplotlib.pyplot as plt"
   ]
  },
  {
   "cell_type": "code",
   "execution_count": 2,
   "metadata": {},
   "outputs": [
    {
     "name": "stdout",
     "output_type": "stream",
     "text": [
      "['train/3T3-run07', 'train/CV-1-run01', 'train/CRE-BAG2-run01', 'train/BPAE-run05', 'train/OK-run01', 'train/PL1Ut-run05', 'train/LLC-MK2-run07', 'train/RK-13-run03', 'train/A-549-run03', 'train/MDBK-run03', 'train/BPAE-run07', 'train/LLC-MK2-run01', 'train/APM-run05', 'train/MDOK-run05', 'train/A-10-run01', 'train/A-10-run07', 'train/3T3-run05', 'train/CRE-BAG2-run03', 'train/OK-run03', 'train/U2O-S-run05', 'train/BPAE-run03', 'train/3T3-run03', 'train/BPAE-run01', 'train/PL1Ut-run01', 'train/OK-run07', 'train/RK-13-run01', 'train/3T3-run09', 'train/MDBK-run09', 'train/PL1Ut-run03', 'train/MDOK-run07', 'train/OK-run05', 'train/MDBK-run01', 'train/MDOK-run01', 'train/MDBK-run07', 'train/CV-1-run03', 'train/MDOK-run03', 'train/A-10-run05', 'train/LLC-MK2-run05', 'train/A-10-run03', 'train/U2O-S-run03', 'train/MDOK-run09', 'train/APM-run03', 'train/MDBK-run05', 'train/3T3-run01', 'train/LLC-MK2-run02a', 'train/APM-run01', 'train/LLC-MK2-run03']\n"
     ]
    }
   ],
   "source": [
    "dirs=glob('train/*')\n",
    "print(dirs)"
   ]
  },
  {
   "cell_type": "code",
   "execution_count": 3,
   "metadata": {},
   "outputs": [],
   "source": [
    "def validate_coord(val, max_val=1.0, min_val=0.0):\n",
    "    if val < min_val:\n",
    "        val=min_val\n",
    "    if val > max_val:\n",
    "        val=max_val\n",
    "    return val"
   ]
  },
  {
   "cell_type": "code",
   "execution_count": 4,
   "metadata": {},
   "outputs": [
    {
     "name": "stdout",
     "output_type": "stream",
     "text": [
      "1931\n",
      "1842\n",
      "1931\n",
      "1775\n",
      "1200\n",
      "1470\n",
      "2187\n",
      "900\n",
      "1592\n",
      "780\n",
      "2160\n",
      "1866\n",
      "2006\n",
      "1894\n",
      "1969\n",
      "2462\n",
      "2039\n",
      "1652\n",
      "1350\n",
      "1972\n",
      "1803\n",
      "2062\n",
      "1568\n",
      "1731\n",
      "1620\n",
      "1500\n",
      "2114\n",
      "2195\n",
      "1848\n",
      "1972\n",
      "1350\n",
      "368\n",
      "2100\n",
      "1824\n",
      "1613\n",
      "763\n",
      "1571\n",
      "1861\n",
      "1891\n",
      "1972\n",
      "2073\n",
      "1458\n",
      "1500\n",
      "1770\n",
      "1050\n",
      "1794\n",
      "2040\n"
     ]
    }
   ],
   "source": [
    "width=400\n",
    "height=320\n",
    "\n",
    "for _d in dirs:\n",
    "    images=glob(_d+'/img1/*.jpg')\n",
    "    print(len(images))\n",
    "    \n",
    "    for img_fname in images:\n",
    "        with open(img_fname.replace('.jpg','.txt'),'w'):\n",
    "            pass\n",
    "    \n",
    "    with open(_d+'/gt/gt.txt') as f:\n",
    "        data = f.read().split('\\n')\n",
    "        if len(data[-1])==0:\n",
    "            data=data[:-1]\n",
    "        data=[[float(__) for __ in _.split(',')] for _ in data]\n",
    "        for d in data:\n",
    "            fname = _d+'/img1/%06d.txt'%int(d[0])\n",
    "            x1,y1,w,h = d[2:6]\n",
    "            xc=x1 + 0.5 * w\n",
    "            yc=y1 + 0.5 * h\n",
    "            w/=width\n",
    "            h/=height\n",
    "            xc/=width\n",
    "            yc/=height\n",
    "            xc,yc,w,h = [validate_coord(x) for x in [xc,yc,w,h]]\n",
    "            with open(fname,'a') as fout:\n",
    "                fout.write('0 %0.6f %0.6f %0.6f %0.6f\\n'%(xc,yc,w,h))\n"
   ]
  }
 ],
 "metadata": {
  "kernelspec": {
   "display_name": "Python 3",
   "language": "python",
   "name": "python3"
  },
  "language_info": {
   "codemirror_mode": {
    "name": "ipython",
    "version": 3
   },
   "file_extension": ".py",
   "mimetype": "text/x-python",
   "name": "python",
   "nbconvert_exporter": "python",
   "pygments_lexer": "ipython3",
   "version": "3.6.13"
  }
 },
 "nbformat": 4,
 "nbformat_minor": 4
}
